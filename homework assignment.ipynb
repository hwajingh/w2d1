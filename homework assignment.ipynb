{
 "cells": [
  {
   "cell_type": "code",
   "execution_count": 2,
   "id": "1d991f30",
   "metadata": {},
   "outputs": [
    {
     "name": "stdout",
     "output_type": "stream",
     "text": [
      "What color is your car?: blue\n",
      "What year is your car?: 2020\n",
      "What is the make?: lambo\n",
      "What model is your car?: gallardo\n",
      "this is a 2020 gallardo lambo. It is blue\n"
     ]
    }
   ],
   "source": [
    "\n",
    "color = input(\"What color is your car?: \")\n",
    "year = input(\"What year is your car?: \")\n",
    "make = input(\"What is the make?: \")\n",
    "model = input(\"What model is your car?: \")\n",
    "results = f\"this is a {year} {model} {make}. It is {color}\"\n",
    "\n",
    "print(results)"
   ]
  },
  {
   "cell_type": "markdown",
   "id": "ee5917bb",
   "metadata": {},
   "source": [
    "exercise 2\n",
    "ask user for input and see if letter p is in input\n",
    "\n"
   ]
  },
  {
   "cell_type": "code",
   "execution_count": 3,
   "id": "706632b1",
   "metadata": {},
   "outputs": [
    {
     "name": "stdout",
     "output_type": "stream",
     "text": [
      "enter something \n",
      "pantom\n",
      "yes\n"
     ]
    }
   ],
   "source": [
    "inp = input(\"enter something \\n\")\n",
    "if 'p' in inp:\n",
    "    print('yes')\n",
    "else:\n",
    "    print('no')"
   ]
  },
  {
   "cell_type": "markdown",
   "id": "5a0c2ff2",
   "metadata": {},
   "source": [
    "Exercise #1\n",
    "Cube Number Test... Print out all cubed numbers up to the total value 1000. Meaning that if the cubed number is over 1000 break the loop."
   ]
  },
  {
   "cell_type": "code",
   "execution_count": 4,
   "id": "b7de3ae6",
   "metadata": {},
   "outputs": [
    {
     "name": "stdout",
     "output_type": "stream",
     "text": [
      "0\n",
      "1\n",
      "8\n",
      "27\n",
      "64\n",
      "125\n",
      "216\n",
      "343\n",
      "512\n",
      "729\n",
      "1000\n"
     ]
    }
   ],
   "source": [
    "list_num = []\n",
    "\n",
    "\n",
    "i = 0\n",
    "while (i**3) <= 1000:\n",
    "    print(i**3)\n",
    "    i+=1\n",
    "    \n",
    "    "
   ]
  },
  {
   "cell_type": "markdown",
   "id": "aea53092",
   "metadata": {},
   "source": [
    "Exercise #2\n",
    "Get first prime numbers up to 100"
   ]
  },
  {
   "cell_type": "code",
   "execution_count": 5,
   "id": "068b1783",
   "metadata": {},
   "outputs": [
    {
     "name": "stdout",
     "output_type": "stream",
     "text": [
      "2\n",
      "3\n",
      "5\n",
      "7\n",
      "11\n",
      "13\n",
      "17\n",
      "19\n",
      "23\n",
      "29\n",
      "31\n",
      "37\n",
      "41\n",
      "43\n",
      "47\n",
      "53\n",
      "59\n",
      "61\n",
      "67\n",
      "71\n",
      "73\n",
      "79\n",
      "83\n",
      "89\n",
      "97\n"
     ]
    }
   ],
   "source": [
    "\n",
    "a = 0\n",
    "b = 100\n",
    "\n",
    "# while i<=100:\n",
    "#     if (i/i) == 1 && :\n",
    "#         print(i)\n",
    "#         i+=1\n",
    "\n",
    "for num in range(a, b + 1):\n",
    "    if num > 1:\n",
    "        for i in range(2, num):\n",
    "            if (num % i) == 0:\n",
    "               break\n",
    "        else:\n",
    "           print(num)\n",
    "        \n"
   ]
  },
  {
   "cell_type": "markdown",
   "id": "f6959b22",
   "metadata": {},
   "source": [
    "Exercise 3\n",
    "Take in a users input for their age, if they are younger than 18 print kids, if they're 18 to 65 print adults, else print seniors"
   ]
  },
  {
   "cell_type": "code",
   "execution_count": 6,
   "id": "95aaca2f",
   "metadata": {},
   "outputs": [
    {
     "name": "stdout",
     "output_type": "stream",
     "text": [
      "how old are you \n",
      "44\n",
      "adults\n"
     ]
    }
   ],
   "source": [
    "age = input(\"how old are you \\n\")\n",
    "\n",
    "newage = int(age,10)\n",
    "\n",
    "if newage < 18:\n",
    "    print(\"kids\")\n",
    "elif newage < 65:\n",
    "    print(\"adults\")\n",
    "else:\n",
    "    print('seniors')\n",
    "    \n",
    "        "
   ]
  },
  {
   "cell_type": "code",
   "execution_count": null,
   "id": "0edb8047",
   "metadata": {},
   "outputs": [],
   "source": []
  }
 ],
 "metadata": {
  "kernelspec": {
   "display_name": "Python 3 (ipykernel)",
   "language": "python",
   "name": "python3"
  },
  "language_info": {
   "codemirror_mode": {
    "name": "ipython",
    "version": 3
   },
   "file_extension": ".py",
   "mimetype": "text/x-python",
   "name": "python",
   "nbconvert_exporter": "python",
   "pygments_lexer": "ipython3",
   "version": "3.9.7"
  }
 },
 "nbformat": 4,
 "nbformat_minor": 5
}
